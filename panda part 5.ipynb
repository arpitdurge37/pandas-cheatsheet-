{
 "cells": [
  {
   "cell_type": "code",
   "execution_count": 23,
   "id": "c738ea24-57b7-41e5-822d-4651f7b2695b",
   "metadata": {
    "scrolled": true
   },
   "outputs": [],
   "source": [
    "import pandas as pd\n",
    "\n",
    "pd.read_xml(\"sample_data.xml\")"
   ]
  },
  {
   "cell_type": "code",
   "execution_count": 24,
   "id": "95ff3dad-900d-48f5-adcc-d6bc2907e3d3",
   "metadata": {},
   "outputs": [],
   "source": [
    "xml = '''<?xml version=\"1.0\" encoding=\"utf-8\"?>\n",
    "<data xmlns=\"http://example.com\">\n",
    "  <row>\n",
    "    <shape>Square</shape>\n",
    "    <degrees>360</degrees>\n",
    "    <sides>4.0</sides>\n",
    "  </row>\n",
    "  <row>\n",
    "    <shape>Circle</shape>\n",
    "    <degrees>360</degrees>\n",
    "    <sides></sides>\n",
    "  </row>\n",
    "  <row>\n",
    "    <shape>Triangle</shape>\n",
    "    <degrees>360</degrees>\n",
    "    <sides>3.0</sides>\n",
    "  </row>\n",
    "</data>\n",
    "'''"
   ]
  },
  {
   "cell_type": "code",
   "execution_count": 25,
   "id": "977381be-025a-4471-b8e6-463530b390b6",
   "metadata": {},
   "outputs": [
    {
     "name": "stderr",
     "output_type": "stream",
     "text": [
      "C:\\Users\\arpit\\AppData\\Local\\Temp\\ipykernel_10100\\2704978085.py:1: FutureWarning: Passing literal xml to 'read_xml' is deprecated and will be removed in a future version. To read from a literal string, wrap it in a 'StringIO' object.\n",
      "  pd.read_xml(xml)\n"
     ]
    },
    {
     "data": {
      "text/html": [
       "<div>\n",
       "<style scoped>\n",
       "    .dataframe tbody tr th:only-of-type {\n",
       "        vertical-align: middle;\n",
       "    }\n",
       "\n",
       "    .dataframe tbody tr th {\n",
       "        vertical-align: top;\n",
       "    }\n",
       "\n",
       "    .dataframe thead th {\n",
       "        text-align: right;\n",
       "    }\n",
       "</style>\n",
       "<table border=\"1\" class=\"dataframe\">\n",
       "  <thead>\n",
       "    <tr style=\"text-align: right;\">\n",
       "      <th></th>\n",
       "      <th>shape</th>\n",
       "      <th>degrees</th>\n",
       "      <th>sides</th>\n",
       "    </tr>\n",
       "  </thead>\n",
       "  <tbody>\n",
       "    <tr>\n",
       "      <th>0</th>\n",
       "      <td>Square</td>\n",
       "      <td>360</td>\n",
       "      <td>4.0</td>\n",
       "    </tr>\n",
       "    <tr>\n",
       "      <th>1</th>\n",
       "      <td>Circle</td>\n",
       "      <td>360</td>\n",
       "      <td>NaN</td>\n",
       "    </tr>\n",
       "    <tr>\n",
       "      <th>2</th>\n",
       "      <td>Triangle</td>\n",
       "      <td>360</td>\n",
       "      <td>3.0</td>\n",
       "    </tr>\n",
       "  </tbody>\n",
       "</table>\n",
       "</div>"
      ],
      "text/plain": [
       "      shape  degrees  sides\n",
       "0    Square      360    4.0\n",
       "1    Circle      360    NaN\n",
       "2  Triangle      360    3.0"
      ]
     },
     "execution_count": 25,
     "metadata": {},
     "output_type": "execute_result"
    }
   ],
   "source": [
    "pd.read_xml(xml)"
   ]
  },
  {
   "cell_type": "code",
   "execution_count": 30,
   "id": "dc29ce22-74b7-4d2f-a4f8-950ea40ce4c2",
   "metadata": {},
   "outputs": [
    {
     "ename": "TypeError",
     "evalue": "read_xml() got an unexpected keyword argument 'namespace'. Did you mean 'namespaces'?",
     "output_type": "error",
     "traceback": [
      "\u001b[1;31m---------------------------------------------------------------------------\u001b[0m",
      "\u001b[1;31mTypeError\u001b[0m                                 Traceback (most recent call last)",
      "Cell \u001b[1;32mIn[30], line 1\u001b[0m\n\u001b[1;32m----> 1\u001b[0m pd\u001b[38;5;241m.\u001b[39mread_xml(xml,xpath\u001b[38;5;241m=\u001b[39m\u001b[38;5;124m\"\u001b[39m\u001b[38;5;124m//row\u001b[39m\u001b[38;5;124m\"\u001b[39m, namespace\u001b[38;5;241m=\u001b[39m{\u001b[38;5;124m\"\u001b[39m\u001b[38;5;124mhttp://example.com\u001b[39m\u001b[38;5;124m\"\u001b[39m})\n",
      "\u001b[1;31mTypeError\u001b[0m: read_xml() got an unexpected keyword argument 'namespace'. Did you mean 'namespaces'?"
     ]
    }
   ],
   "source": [
    "pd.read_xml(xml,xpath=\"//row\", namespace={\"http://example.com\"})"
   ]
  },
  {
   "cell_type": "code",
   "execution_count": 31,
   "id": "dd4b814f-e6bd-46d4-86e4-afba3e7c95be",
   "metadata": {},
   "outputs": [
    {
     "ename": "NameError",
     "evalue": "name 'df' is not defined",
     "output_type": "error",
     "traceback": [
      "\u001b[1;31m---------------------------------------------------------------------------\u001b[0m",
      "\u001b[1;31mNameError\u001b[0m                                 Traceback (most recent call last)",
      "Cell \u001b[1;32mIn[31], line 1\u001b[0m\n\u001b[1;32m----> 1\u001b[0m df\u001b[38;5;241m.\u001b[39mto_xml(\u001b[38;5;124m\"\u001b[39m\u001b[38;5;124msample_data.xml\u001b[39m\u001b[38;5;124m\"\u001b[39m)\n",
      "\u001b[1;31mNameError\u001b[0m: name 'df' is not defined"
     ]
    }
   ],
   "source": [
    "df.to_xml(\"sample_data.xml\")"
   ]
  },
  {
   "cell_type": "code",
   "execution_count": null,
   "id": "794e7863-89c4-411f-98f0-4ac93d277dec",
   "metadata": {},
   "outputs": [],
   "source": []
  }
 ],
 "metadata": {
  "kernelspec": {
   "display_name": "Python 3 (ipykernel)",
   "language": "python",
   "name": "python3"
  },
  "language_info": {
   "codemirror_mode": {
    "name": "ipython",
    "version": 3
   },
   "file_extension": ".py",
   "mimetype": "text/x-python",
   "name": "python",
   "nbconvert_exporter": "python",
   "pygments_lexer": "ipython3",
   "version": "3.13.5"
  }
 },
 "nbformat": 4,
 "nbformat_minor": 5
}
